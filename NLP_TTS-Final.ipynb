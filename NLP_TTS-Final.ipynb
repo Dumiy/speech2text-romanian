{
  "cells": [
    {
      "cell_type": "code",
      "execution_count": null,
      "metadata": {
        "colab": {
          "base_uri": "https://localhost:8080/"
        },
        "id": "0xqQKfsn0rQr",
        "outputId": "119bbfd3-2806-4b4d-f70f-a59bc2b3beb7"
      },
      "outputs": [
        {
          "name": "stdout",
          "output_type": "stream",
          "text": [
            "Collecting update\n",
            "  Downloading update-0.0.1-py2.py3-none-any.whl (2.9 kB)\n",
            "Requirement already satisfied: kaggle in /usr/local/lib/python3.7/dist-packages (1.5.12)\n",
            "Collecting style==1.1.0\n",
            "  Downloading style-1.1.0-py2.py3-none-any.whl (6.4 kB)\n",
            "Requirement already satisfied: certifi in /usr/local/lib/python3.7/dist-packages (from kaggle) (2021.10.8)\n",
            "Requirement already satisfied: urllib3 in /usr/local/lib/python3.7/dist-packages (from kaggle) (1.24.3)\n",
            "Requirement already satisfied: requests in /usr/local/lib/python3.7/dist-packages (from kaggle) (2.23.0)\n",
            "Requirement already satisfied: six>=1.10 in /usr/local/lib/python3.7/dist-packages (from kaggle) (1.15.0)\n",
            "Requirement already satisfied: python-slugify in /usr/local/lib/python3.7/dist-packages (from kaggle) (5.0.2)\n",
            "Requirement already satisfied: python-dateutil in /usr/local/lib/python3.7/dist-packages (from kaggle) (2.8.2)\n",
            "Requirement already satisfied: tqdm in /usr/local/lib/python3.7/dist-packages (from kaggle) (4.62.3)\n",
            "Requirement already satisfied: text-unidecode>=1.3 in /usr/local/lib/python3.7/dist-packages (from python-slugify->kaggle) (1.3)\n",
            "Requirement already satisfied: idna<3,>=2.5 in /usr/local/lib/python3.7/dist-packages (from requests->kaggle) (2.10)\n",
            "Requirement already satisfied: chardet<4,>=3.0.2 in /usr/local/lib/python3.7/dist-packages (from requests->kaggle) (3.0.4)\n",
            "Installing collected packages: style, update\n",
            "Successfully installed style-1.1.0 update-0.0.1\n"
          ]
        }
      ],
      "source": [
        "!pip install update kaggle\n",
        "import os\n",
        "os.environ['KAGGLE_USERNAME'] = 'dumiiii'\n",
        "os.environ['KAGGLE_KEY'] = \"7c4f40a4147b449974a1988a35231aac\""
      ]
    },
    {
      "cell_type": "code",
      "execution_count": null,
      "metadata": {
        "colab": {
          "base_uri": "https://localhost:8080/"
        },
        "id": "7kJzblKh8YsY",
        "outputId": "1e743352-bf94-4045-9ae6-c4f9256f74c6"
      },
      "outputs": [
        {
          "name": "stdout",
          "output_type": "stream",
          "text": [
            "Warning: Looks like you're using an outdated API Version, please consider updating (server 1.5.12 / client 1.5.4)\n",
            "ref                        title                 size  lastUpdated          downloadCount  \n",
            "-------------------------  -------------------  -----  -------------------  -------------  \n",
            "dumiiii/romaniattsdataset  romania-tts-dataset    3GB  2022-01-08 22:44:48             26  \n",
            "dumiiii/dlcomp             dl-comp              150MB  2021-11-22 19:27:17             34  \n",
            "dumiiii/romaniatts         romania-tts          929MB  2022-01-14 19:37:44              0  \n"
          ]
        }
      ],
      "source": [
        "!kaggle datasets list --mine"
      ]
    },
    {
      "cell_type": "code",
      "execution_count": null,
      "metadata": {
        "id": "J9Y9n3yv20uy"
      },
      "outputs": [],
      "source": [
        "!kaggle datasets download -d dumiiii/romaniattsdataset\n",
        "!unzip /content/romaniattsdataset.zip"
      ]
    },
    {
      "cell_type": "code",
      "execution_count": null,
      "metadata": {
        "id": "tlPK5bwnAa_X"
      },
      "outputs": [],
      "source": [
        "!mkdir /content/datasets\n",
        "!mkdir /content/datasets/romaniadb\n",
        "!mkdir /content/datasets/elena\n",
        "!mkdir /content/datasets/georgiana"
      ]
    },
    {
      "cell_type": "code",
      "execution_count": null,
      "metadata": {
        "id": "GUPckRJG_rLN"
      },
      "outputs": [],
      "source": [
        "!tar zxvf /content/RomanianDB_v.0.8.1.tgz -C /content/datasets/romaniadb\n",
        "!tar zxvf /content/elena.tgz -C /content/datasets/elena\n",
        "!tar zxvf /content/georgiana.tgz -C /content/datasets/georgiana"
      ]
    },
    {
      "cell_type": "code",
      "execution_count": null,
      "metadata": {
        "colab": {
          "background_save": true
        },
        "id": "QzHYI6cVjJ2h",
        "outputId": "58f17efa-f168-4716-d98b-6f178eb625d5"
      },
      "outputs": [
        {
          "name": "stdout",
          "output_type": "stream",
          "text": [
            "1882.8666666666657\n"
          ]
        }
      ],
      "source": [
        "duration = 0\n",
        "path = \"/content/tts/tts/clips\"\n",
        "WAV_FOLDER_NAMES = os.listdir(path)\n",
        "for x in WAV_FOLDER_NAMES:\n",
        "  y = path+\"/\"+x\n",
        "  duration += librosa.get_duration(filename=y)\n",
        "print(duration/60)"
      ]
    },
    {
      "cell_type": "code",
      "execution_count": null,
      "metadata": {
        "colab": {
          "base_uri": "https://localhost:8080/"
        },
        "id": "qoWKf7JvgHga",
        "outputId": "f27434ac-7bf0-46df-b1f2-dc4801690199"
      },
      "outputs": [
        {
          "name": "stdout",
          "output_type": "stream",
          "text": [
            "42.821528472222234\n",
            "78.4107489583333\n",
            "113.60829062499985\n",
            "131.9668406249999\n",
            "155.27887534722203\n",
            "185.03414444444476\n",
            "210.56442048611132\n",
            "249.1073243055558\n",
            "281.0409652777781\n",
            "314.0976444444446\n",
            "355.3119184027783\n"
          ]
        }
      ],
      "source": [
        "import librosa\n",
        "duration = 0\n",
        "path = \"/content/datasets/elena/elena/wav/rnd1\"\n",
        "WAV_FOLDER_NAMES = os.listdir(path)\n",
        "for x in WAV_FOLDER_NAMES:\n",
        "  y = path+\"/\"+x\n",
        "  duration += librosa.get_duration(filename=y)\n",
        "print(duration/60)\n",
        "path = \"/content/datasets/elena/elena/wav/rnd2\"\n",
        "\n",
        "WAV_FOLDER_NAMES = os.listdir(path)\n",
        "for x in WAV_FOLDER_NAMES:\n",
        "  x = path+\"/\"+x\n",
        "  duration += librosa.get_duration(filename=x)\n",
        "print(duration/60)\n",
        "path = \"/content/datasets/elena/elena/wav/rnd3\"\n",
        "\n",
        "WAV_FOLDER_NAMES = os.listdir(path)\n",
        "for x in WAV_FOLDER_NAMES:\n",
        "  x = path+\"/\"+x\n",
        "  duration += librosa.get_duration(filename=x)\n",
        "print(duration/60)\n",
        "\n",
        "path = \"/content/datasets/georgiana/georgiana/wav/rnd1\"\n",
        "WAV_FOLDER_NAMES = os.listdir(path)\n",
        "for x in WAV_FOLDER_NAMES:\n",
        "  x = path+\"/\"+x\n",
        "  duration += librosa.get_duration(filename=x)\n",
        "print(duration/60)\n",
        "\n",
        "path = \"/content/datasets/romaniadb/training/wav/diph1\"\n",
        "WAV_FOLDER_NAMES = os.listdir(path)\n",
        "for x in WAV_FOLDER_NAMES:\n",
        "  x = path+\"/\"+x\n",
        "  duration += librosa.get_duration(filename=x)\n",
        "print(duration/60)\n",
        "\n",
        "path = \"/content/datasets/romaniadb/training/wav/diph2\"\n",
        "WAV_FOLDER_NAMES = os.listdir(path)\n",
        "for x in WAV_FOLDER_NAMES:\n",
        "  x = path+\"/\"+x\n",
        "  duration += librosa.get_duration(filename=x)\n",
        "print(duration/60)\n",
        "\n",
        "path = \"/content/datasets/romaniadb/training/wav/ivan\"\n",
        "WAV_FOLDER_NAMES = os.listdir(path)\n",
        "for x in WAV_FOLDER_NAMES:\n",
        "  x = path+\"/\"+x\n",
        "  duration += librosa.get_duration(filename=x)\n",
        "print(duration/60)\n",
        "\n",
        "path = \"/content/datasets/romaniadb/training/wav/rnd1\"\n",
        "WAV_FOLDER_NAMES = os.listdir(path)\n",
        "for x in WAV_FOLDER_NAMES:\n",
        "  x = path+\"/\"+x\n",
        "  duration += librosa.get_duration(filename=x)\n",
        "print(duration/60)\n",
        "\n",
        "path = \"/content/datasets/romaniadb/training/wav/rnd2\"\n",
        "WAV_FOLDER_NAMES = os.listdir(path)\n",
        "for x in WAV_FOLDER_NAMES:\n",
        "  x = path+\"/\"+x\n",
        "  duration += librosa.get_duration(filename=x)\n",
        "print(duration/60)\n",
        "\n",
        "path = \"/content/datasets/romaniadb/training/wav/rnd3\"\n",
        "WAV_FOLDER_NAMES = os.listdir(path)\n",
        "for x in WAV_FOLDER_NAMES:\n",
        "  x = path+\"/\"+x\n",
        "  duration += librosa.get_duration(filename=x)\n",
        "print(duration/60)\n",
        "\n",
        "path = \"/content/datasets/romaniadb/training/wav/stan\"\n",
        "WAV_FOLDER_NAMES = os.listdir(path)\n",
        "for x in WAV_FOLDER_NAMES:\n",
        "  x = path+\"/\"+x\n",
        "  duration += librosa.get_duration(filename=x)\n",
        "print(duration/60)\n"
      ]
    },
    {
      "cell_type": "code",
      "execution_count": null,
      "metadata": {
        "id": "w73Cci0EA1ru"
      },
      "outputs": [],
      "source": [
        "import pandas as pd"
      ]
    },
    {
      "cell_type": "code",
      "execution_count": null,
      "metadata": {
        "id": "HUf4D8vnAYNm"
      },
      "outputs": [],
      "source": [
        "tts_common = pd.read_csv(\"/content/tts/tts/train.tsv\",sep='\\t')"
      ]
    },
    {
      "cell_type": "code",
      "execution_count": null,
      "metadata": {
        "id": "4VKfDh48ly8t"
      },
      "outputs": [],
      "source": [
        "desired_format = tts_common[['path','sentence']]"
      ]
    },
    {
      "cell_type": "code",
      "execution_count": null,
      "metadata": {
        "colab": {
          "base_uri": "https://localhost:8080/",
          "height": 424
        },
        "id": "FDQC_Osivgzf",
        "outputId": "c0f4fbcb-5d78-407e-9302-61e643ebfa15"
      },
      "outputs": [
        {
          "data": {
            "text/html": [
              "\n",
              "  <div id=\"df-3dffcb8e-ec8b-41a0-aaf1-9ae1c7cc9faf\">\n",
              "    <div class=\"colab-df-container\">\n",
              "      <div>\n",
              "<style scoped>\n",
              "    .dataframe tbody tr th:only-of-type {\n",
              "        vertical-align: middle;\n",
              "    }\n",
              "\n",
              "    .dataframe tbody tr th {\n",
              "        vertical-align: top;\n",
              "    }\n",
              "\n",
              "    .dataframe thead th {\n",
              "        text-align: right;\n",
              "    }\n",
              "</style>\n",
              "<table border=\"1\" class=\"dataframe\">\n",
              "  <thead>\n",
              "    <tr style=\"text-align: right;\">\n",
              "      <th></th>\n",
              "      <th>path</th>\n",
              "      <th>sentence</th>\n",
              "    </tr>\n",
              "  </thead>\n",
              "  <tbody>\n",
              "    <tr>\n",
              "      <th>0</th>\n",
              "      <td>common_voice_ro_24224807.mp3</td>\n",
              "      <td>Fiecare instituție are dreptul la reacție.</td>\n",
              "    </tr>\n",
              "    <tr>\n",
              "      <th>1</th>\n",
              "      <td>common_voice_ro_24224809.mp3</td>\n",
              "      <td>Aş dori să-i mulţumesc preşedintelui în exerci...</td>\n",
              "    </tr>\n",
              "    <tr>\n",
              "      <th>2</th>\n",
              "      <td>common_voice_ro_24224810.mp3</td>\n",
              "      <td>Totuşi, până acum acest lucru nu s-a întâmplat.</td>\n",
              "    </tr>\n",
              "    <tr>\n",
              "      <th>3</th>\n",
              "      <td>common_voice_ro_24224812.mp3</td>\n",
              "      <td>Ne-am fi pregătit la fel dacă jucam sau nu.</td>\n",
              "    </tr>\n",
              "    <tr>\n",
              "      <th>4</th>\n",
              "      <td>common_voice_ro_24224813.mp3</td>\n",
              "      <td>Din acest motiv am renunțat la fotografii.</td>\n",
              "    </tr>\n",
              "    <tr>\n",
              "      <th>...</th>\n",
              "      <td>...</td>\n",
              "      <td>...</td>\n",
              "    </tr>\n",
              "    <tr>\n",
              "      <th>4508</th>\n",
              "      <td>common_voice_ro_23961390.mp3</td>\n",
              "      <td>Aş dori să analizez pe scurt câteva aspecte.</td>\n",
              "    </tr>\n",
              "    <tr>\n",
              "      <th>4509</th>\n",
              "      <td>common_voice_ro_23961391.mp3</td>\n",
              "      <td>De fapt, situația nu este sub control.</td>\n",
              "    </tr>\n",
              "    <tr>\n",
              "      <th>4510</th>\n",
              "      <td>common_voice_ro_23961392.mp3</td>\n",
              "      <td>De ce nu mi s-a solicitat intervenţia?</td>\n",
              "    </tr>\n",
              "    <tr>\n",
              "      <th>4511</th>\n",
              "      <td>common_voice_ro_23961393.mp3</td>\n",
              "      <td>Comisia, la rândul său, susţine contrariul.</td>\n",
              "    </tr>\n",
              "    <tr>\n",
              "      <th>4512</th>\n",
              "      <td>common_voice_ro_23961394.mp3</td>\n",
              "      <td>Absența acestor măsuri este deosebit de regret...</td>\n",
              "    </tr>\n",
              "  </tbody>\n",
              "</table>\n",
              "<p>4513 rows × 2 columns</p>\n",
              "</div>\n",
              "      <button class=\"colab-df-convert\" onclick=\"convertToInteractive('df-3dffcb8e-ec8b-41a0-aaf1-9ae1c7cc9faf')\"\n",
              "              title=\"Convert this dataframe to an interactive table.\"\n",
              "              style=\"display:none;\">\n",
              "        \n",
              "  <svg xmlns=\"http://www.w3.org/2000/svg\" height=\"24px\"viewBox=\"0 0 24 24\"\n",
              "       width=\"24px\">\n",
              "    <path d=\"M0 0h24v24H0V0z\" fill=\"none\"/>\n",
              "    <path d=\"M18.56 5.44l.94 2.06.94-2.06 2.06-.94-2.06-.94-.94-2.06-.94 2.06-2.06.94zm-11 1L8.5 8.5l.94-2.06 2.06-.94-2.06-.94L8.5 2.5l-.94 2.06-2.06.94zm10 10l.94 2.06.94-2.06 2.06-.94-2.06-.94-.94-2.06-.94 2.06-2.06.94z\"/><path d=\"M17.41 7.96l-1.37-1.37c-.4-.4-.92-.59-1.43-.59-.52 0-1.04.2-1.43.59L10.3 9.45l-7.72 7.72c-.78.78-.78 2.05 0 2.83L4 21.41c.39.39.9.59 1.41.59.51 0 1.02-.2 1.41-.59l7.78-7.78 2.81-2.81c.8-.78.8-2.07 0-2.86zM5.41 20L4 18.59l7.72-7.72 1.47 1.35L5.41 20z\"/>\n",
              "  </svg>\n",
              "      </button>\n",
              "      \n",
              "  <style>\n",
              "    .colab-df-container {\n",
              "      display:flex;\n",
              "      flex-wrap:wrap;\n",
              "      gap: 12px;\n",
              "    }\n",
              "\n",
              "    .colab-df-convert {\n",
              "      background-color: #E8F0FE;\n",
              "      border: none;\n",
              "      border-radius: 50%;\n",
              "      cursor: pointer;\n",
              "      display: none;\n",
              "      fill: #1967D2;\n",
              "      height: 32px;\n",
              "      padding: 0 0 0 0;\n",
              "      width: 32px;\n",
              "    }\n",
              "\n",
              "    .colab-df-convert:hover {\n",
              "      background-color: #E2EBFA;\n",
              "      box-shadow: 0px 1px 2px rgba(60, 64, 67, 0.3), 0px 1px 3px 1px rgba(60, 64, 67, 0.15);\n",
              "      fill: #174EA6;\n",
              "    }\n",
              "\n",
              "    [theme=dark] .colab-df-convert {\n",
              "      background-color: #3B4455;\n",
              "      fill: #D2E3FC;\n",
              "    }\n",
              "\n",
              "    [theme=dark] .colab-df-convert:hover {\n",
              "      background-color: #434B5C;\n",
              "      box-shadow: 0px 1px 3px 1px rgba(0, 0, 0, 0.15);\n",
              "      filter: drop-shadow(0px 1px 2px rgba(0, 0, 0, 0.3));\n",
              "      fill: #FFFFFF;\n",
              "    }\n",
              "  </style>\n",
              "\n",
              "      <script>\n",
              "        const buttonEl =\n",
              "          document.querySelector('#df-3dffcb8e-ec8b-41a0-aaf1-9ae1c7cc9faf button.colab-df-convert');\n",
              "        buttonEl.style.display =\n",
              "          google.colab.kernel.accessAllowed ? 'block' : 'none';\n",
              "\n",
              "        async function convertToInteractive(key) {\n",
              "          const element = document.querySelector('#df-3dffcb8e-ec8b-41a0-aaf1-9ae1c7cc9faf');\n",
              "          const dataTable =\n",
              "            await google.colab.kernel.invokeFunction('convertToInteractive',\n",
              "                                                     [key], {});\n",
              "          if (!dataTable) return;\n",
              "\n",
              "          const docLinkHtml = 'Like what you see? Visit the ' +\n",
              "            '<a target=\"_blank\" href=https://colab.research.google.com/notebooks/data_table.ipynb>data table notebook</a>'\n",
              "            + ' to learn more about interactive tables.';\n",
              "          element.innerHTML = '';\n",
              "          dataTable['output_type'] = 'display_data';\n",
              "          await google.colab.output.renderOutput(dataTable, element);\n",
              "          const docLink = document.createElement('div');\n",
              "          docLink.innerHTML = docLinkHtml;\n",
              "          element.appendChild(docLink);\n",
              "        }\n",
              "      </script>\n",
              "    </div>\n",
              "  </div>\n",
              "  "
            ],
            "text/plain": [
              "                              path                                           sentence\n",
              "0     common_voice_ro_24224807.mp3         Fiecare instituție are dreptul la reacție.\n",
              "1     common_voice_ro_24224809.mp3  Aş dori să-i mulţumesc preşedintelui în exerci...\n",
              "2     common_voice_ro_24224810.mp3    Totuşi, până acum acest lucru nu s-a întâmplat.\n",
              "3     common_voice_ro_24224812.mp3        Ne-am fi pregătit la fel dacă jucam sau nu.\n",
              "4     common_voice_ro_24224813.mp3         Din acest motiv am renunțat la fotografii.\n",
              "...                            ...                                                ...\n",
              "4508  common_voice_ro_23961390.mp3       Aş dori să analizez pe scurt câteva aspecte.\n",
              "4509  common_voice_ro_23961391.mp3             De fapt, situația nu este sub control.\n",
              "4510  common_voice_ro_23961392.mp3             De ce nu mi s-a solicitat intervenţia?\n",
              "4511  common_voice_ro_23961393.mp3        Comisia, la rândul său, susţine contrariul.\n",
              "4512  common_voice_ro_23961394.mp3  Absența acestor măsuri este deosebit de regret...\n",
              "\n",
              "[4513 rows x 2 columns]"
            ]
          },
          "execution_count": 12,
          "metadata": {},
          "output_type": "execute_result"
        }
      ],
      "source": [
        "desired_format"
      ]
    },
    {
      "cell_type": "markdown",
      "metadata": {
        "id": "Zb7yRjjM0Qbl"
      },
      "source": [
        "# RomanianDB\n"
      ]
    },
    {
      "cell_type": "code",
      "execution_count": null,
      "metadata": {
        "colab": {
          "base_uri": "https://localhost:8080/"
        },
        "id": "9wX6mZsa0Von",
        "outputId": "f0e36b0a-810f-4035-ebb0-5c7058378f8d"
      },
      "outputs": [
        {
          "name": "stdout",
          "output_type": "stream",
          "text": [
            "                                                path                                           sentence\n",
            "0  /content/datasets/romaniadb/training/wav/diph2...  volleiball club junior delphin din bucureşti o...\n",
            "1  /content/datasets/romaniadb/training/wav/diph2...  acest lucru îl recunoaşte şi purtătorul de cuv...\n",
            "2  /content/datasets/romaniadb/training/wav/diph2...  puneţi compoziţie în formă până la jumătate, m...\n",
            "3  /content/datasets/romaniadb/training/wav/diph2...  se serveşte cu sosul de muştar preparat din mu...\n",
            "4  /content/datasets/romaniadb/training/wav/diph2...  min şaptezeci şi doi bujor ratează şansa de a ...\n"
          ]
        }
      ],
      "source": [
        "PATH_ROMANIANDB_TEXT = \"/content/datasets/romaniadb/training/text\"\n",
        "PATH_ROMANIANDB_WAV = \"/content/datasets/romaniadb/training/wav\"\n",
        "\n",
        "TXT_FILE_NAMES = os.listdir(PATH_ROMANIANDB_TEXT)\n",
        "# print(TXT_FILE_NAMES)\n",
        "\n",
        "paths_romaniandb_text = {}\n",
        "for TXT_FILE_NAME in TXT_FILE_NAMES:\n",
        "  key = TXT_FILE_NAME.replace(\".txt\", \"\")\n",
        "  paths_romaniandb_text[key] = TXT_FILE_NAME\n",
        "\n",
        "\n",
        "WAV_FOLDER_NAMES = os.listdir(PATH_ROMANIANDB_WAV)\n",
        "# print(WAV_FOLDER_NAMES)\n",
        "\n",
        "df = pd.DataFrame() \n",
        "dict_values = {}\n",
        "# a.setdefault('name', []).append('el1')\n",
        "for WAV_FOLDER_NAME in WAV_FOLDER_NAMES:\n",
        "  \n",
        "  f = open(PATH_ROMANIANDB_TEXT+'/'+paths_romaniandb_text[WAV_FOLDER_NAME], \"r\")\n",
        "  txt_lines = f.readlines()\n",
        "  \n",
        "  for line in txt_lines:\n",
        "    txt_split = line.split(\". \", 1)\n",
        "    txt_number = txt_split[0]\n",
        "    txt =  txt_split[1].replace('\\n','')\n",
        "\n",
        "    dict_values.setdefault('path', []).append(\n",
        "        PATH_ROMANIANDB_WAV + '/' + \n",
        "        WAV_FOLDER_NAME + '/' +\n",
        "        'adr_' + WAV_FOLDER_NAME + '_' + txt_number + '.wav')\n",
        "    \n",
        "    dict_values.setdefault('sentence', []).append(txt)\n",
        "\n",
        "df = pd.DataFrame(dict_values) \n",
        "print(df[:5])\n",
        "df.to_csv('ROMANIAN_DB.csv', index=False)"
      ]
    },
    {
      "cell_type": "code",
      "source": [
        "from os import walk\n",
        "elenaTextFolder = '/content/datasets/elena/elena/text'\n",
        "elenaWavFolder = '/content/datasets/elena/elena/wav'\n",
        "\n",
        "filenames = next(walk(elenaTextFolder), (None, None, []))[2]  # [] if no file\n",
        "directories = os.listdir(elenaWavFolder)\n",
        "csv = pd.DataFrame()\n",
        "\n",
        "for file in filenames:\n",
        "  print(file)\n",
        "  with open(elenaTextFolder+'/'+file) as f:\n",
        "      lines = f.readlines()\n",
        "      lines = [str(line[5:]) for line in lines]\n",
        "      #wavFilenames = next(walk(elenaWavFolder+'/'+directories[directories.index(file[:4])]), (None, None, []))[2]  # [] if no file\n",
        "      wavFilenames = os.listdir(elenaWavFolder+'/'+directories[directories.index(file[:4])])\n",
        "      wavFilenames.sort()\n",
        "      print(wavFilenames)\n",
        "      wavFilenames = [str(elenaWavFolder + '/' + str(file[:4]) + '/' + wavFile) for wavFile in wavFilenames]\n",
        "      data = {'path': wavFilenames, 'sentence': lines}\n",
        "      newCsv = pd.DataFrame.from_dict(data)\n",
        "      csv = csv.append(newCsv)"
      ],
      "metadata": {
        "id": "wVpdIe_ndleZ"
      },
      "execution_count": null,
      "outputs": []
    }
  ],
  "metadata": {
    "colab": {
      "collapsed_sections": [],
      "name": "NLP_TTS.ipynb",
      "provenance": []
    },
    "kernelspec": {
      "display_name": "Python 3",
      "name": "python3"
    },
    "language_info": {
      "name": "python"
    }
  },
  "nbformat": 4,
  "nbformat_minor": 0
}